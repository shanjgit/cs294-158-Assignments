{
 "cells": [
  {
   "cell_type": "code",
   "execution_count": 1,
   "metadata": {},
   "outputs": [],
   "source": [
    "import numpy as np\n",
    "import tensorflow as tf"
   ]
  },
  {
   "cell_type": "code",
   "execution_count": null,
   "metadata": {},
   "outputs": [],
   "source": []
  },
  {
   "cell_type": "code",
   "execution_count": null,
   "metadata": {},
   "outputs": [],
   "source": [
    "# Create the metrics\n",
    "\n",
    "loss_metric = tf.keras.metrics.Mean(name='train_loss')\n",
    "val_loss_metric = tf.keras.metrics.Mean(name='val_loss')\n",
    "optimizer = tf.keras.optimizers.Adam(0.001)\n",
    "def train_step(inputs):\n",
    "    with tf.GradientTape() as tape:\n",
    "        log_loss = softmaxLoss(inputs)\n",
    "    gradients = tape.gradient(log_loss,theta)\n",
    "    optimizer.apply_gradients(zip(gradients, theta))\n",
    "    # Update the metrics\n",
    "    loss_metric.update_state(total_loss)\n",
    " \n",
    "\n",
    "@tf.function\n",
    "def val_step(inputs):\n",
    "    \n",
    "    log_loss = lsoftmaxLoss(inputs)\n",
    "    # Update the metrics\n",
    "    val_loss_metric.update_state(total_loss)\n",
    "\n",
    "\n",
    "for epoch in range(NUM_EPOCHS):\n",
    "    # Reset the metrics\n",
    "    loss_metric.reset_states()\n",
    "    for inputs in train_dset:\n",
    "        train_step(inputs)\n",
    "        \n",
    "    # Repeat the same process for val set\n",
    "    val_loss_metric.reset_states()\n",
    "    for inputs in val_dset:\n",
    "        val_step(inputs)\n",
    "    # Get the metric results\n",
    "    mean_loss = loss_metric.result()\n",
    "    mean_val_loss = val_loss_metric.result()\n",
    "\n",
    "    print('Epoch: ', epoch)\n",
    "    print('  train loss:     {:.3f}'.format(mean_loss))\n",
    "    print('  val loss: {:.3f}'.format(mean_val_loss))"
   ]
  }
 ],
 "metadata": {
  "kernelspec": {
   "display_name": "Python 3",
   "language": "python",
   "name": "python3"
  },
  "language_info": {
   "codemirror_mode": {
    "name": "ipython",
    "version": 3
   },
   "file_extension": ".py",
   "mimetype": "text/x-python",
   "name": "python",
   "nbconvert_exporter": "python",
   "pygments_lexer": "ipython3",
   "version": "3.6.0"
  }
 },
 "nbformat": 4,
 "nbformat_minor": 2
}
