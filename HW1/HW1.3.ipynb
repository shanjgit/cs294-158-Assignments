{
 "cells": [
  {
   "cell_type": "code",
   "execution_count": 1,
   "metadata": {
    "colab": {
     "base_uri": "https://localhost:8080/",
     "height": 469
    },
    "colab_type": "code",
    "id": "iVj26iE7R0WT",
    "outputId": "a12a524d-8b61-43d5-a068-e06a544b0cba"
   },
   "outputs": [
    {
     "name": "stdout",
     "output_type": "stream",
     "text": [
      "Collecting tensorflow-gpu==2.0.0-beta0\n",
      "\u001b[31m  Could not find a version that satisfies the requirement tensorflow-gpu==2.0.0-beta0 (from versions: 0.12.1, 1.0.0, 1.0.1, 1.1.0rc0, 1.1.0rc1, 1.1.0rc2, 1.1.0)\u001b[0m\n",
      "\u001b[31mNo matching distribution found for tensorflow-gpu==2.0.0-beta0\u001b[0m\n",
      "Requirement already satisfied: tfp-nightly in /Users/shanwu/anaconda3/envs/tf2env/lib/python3.6/site-packages (0.8.0.dev20190607)\n",
      "Requirement already satisfied: numpy>=1.13.3 in /Users/shanwu/anaconda3/envs/tf2env/lib/python3.6/site-packages (from tfp-nightly) (1.16.3)\n",
      "Requirement already satisfied: decorator in /Users/shanwu/anaconda3/envs/tf2env/lib/python3.6/site-packages (from tfp-nightly) (4.3.2)\n",
      "Requirement already satisfied: six>=1.10.0 in /Users/shanwu/anaconda3/envs/tf2env/lib/python3.6/site-packages (from tfp-nightly) (1.12.0)\n",
      "Requirement already satisfied: cloudpickle>=0.6.1 in /Users/shanwu/anaconda3/envs/tf2env/lib/python3.6/site-packages (from tfp-nightly) (1.0.0)\n"
     ]
    }
   ],
   "source": [
    "!pip install tensorflow-gpu==2.0.0-beta0 \n",
    "!pip install  tfp-nightly"
   ]
  },
  {
   "cell_type": "code",
   "execution_count": null,
   "metadata": {},
   "outputs": [],
   "source": []
  },
  {
   "cell_type": "markdown",
   "metadata": {
    "colab_type": "text",
    "id": "_wqHsiyNR0WV"
   },
   "source": [
    "# 1.3 High-dimensional Data"
   ]
  },
  {
   "cell_type": "markdown",
   "metadata": {
    "colab_type": "text",
    "id": "zbjNH9eGR0WW"
   },
   "source": [
    "## PixelCNN"
   ]
  },
  {
   "cell_type": "markdown",
   "metadata": {
    "colab_type": "text",
    "id": "i5Myb-IuUBV1"
   },
   "source": []
  },
  {
   "cell_type": "code",
   "execution_count": 1,
   "metadata": {
    "colab": {},
    "colab_type": "code",
    "collapsed": true,
    "id": "eNZsW7wER0WX"
   },
   "outputs": [],
   "source": [
    "import tensorflow as tf\n",
    "from tensorflow import keras\n",
    "import tensorflow.keras.layers as layers\n",
    "from tensorflow.keras.models import Model\n",
    "import numpy as np\n",
    "import matplotlib.pyplot as plt\n",
    "import pickle\n",
    "import os\n",
    "from utils import *\n",
    "%matplotlib inline\n",
    "\n",
    "# for auto-reloading external modules\n",
    "# see http://stackoverflow.com/questions/1907993/autoreload-of-modules-in-ipython\n",
    "%reload_ext autoreload\n",
    "%autoreload 2"
   ]
  },
  {
   "cell_type": "code",
   "execution_count": 2,
   "metadata": {
    "colab": {},
    "colab_type": "code",
    "collapsed": true,
    "id": "EuuCXTG7R0Wa"
   },
   "outputs": [],
   "source": [
    "np.random.seed(0)\n",
    "tf.random.set_seed(0)\n",
    "NUM_EPOCHS = 50\n",
    "BATCH_SIZE = 128"
   ]
  },
  {
   "cell_type": "code",
   "execution_count": 3,
   "metadata": {
    "colab": {},
    "colab_type": "code",
    "collapsed": true,
    "id": "_b79GbROR0Wb"
   },
   "outputs": [],
   "source": [
    "with open('./mnist-hw1.pkl', 'rb') as fp:\n",
    "    data = pickle.load(fp)"
   ]
  },
  {
   "cell_type": "code",
   "execution_count": 4,
   "metadata": {
    "colab": {},
    "colab_type": "code",
    "collapsed": true,
    "id": "Lf-4G-vZR0Wh"
   },
   "outputs": [],
   "source": [
    "# Prepare for the train/val data set.\n",
    "train_raw = data['train'].astype(np.float32)\n",
    "test = data['test'].astype(np.float32)\n",
    "np.random.shuffle(train_raw)\n",
    "\n",
    "train = train_raw[:int(len(train_raw)*0.8)].astype(np.float32)\n",
    "val = train_raw[int(len(train_raw)*0.8):].astype(np.float32)\n",
    "\n",
    "train_dset = tf.data.Dataset.from_tensor_slices(train).\\\n",
    "                                repeat(1).batch(BATCH_SIZE)\n",
    "val_dset = tf.data.Dataset.from_tensor_slices(val).\\\n",
    "                                    batch(BATCH_SIZE)\n",
    "test_dset = tf.data.Dataset.from_tensor_slices(test).\\\n",
    "                                    batch(BATCH_SIZE)"
   ]
  },
  {
   "cell_type": "code",
   "execution_count": 5,
   "metadata": {
    "colab": {},
    "colab_type": "code",
    "collapsed": true,
    "id": "eXFR-Cg6R0Wk"
   },
   "outputs": [],
   "source": [
    "pixel_cnn = PixelCNN(128, 3*4)"
   ]
  },
  {
   "cell_type": "code",
   "execution_count": 7,
   "metadata": {
    "colab": {},
    "colab_type": "code",
    "collapsed": true,
    "id": "Wa-6JubqR0Wm"
   },
   "outputs": [],
   "source": [
    "# Create metrics\n",
    "loss_metric = tf.keras.metrics.Mean(name='train_loss')\n",
    "val_loss_metric = tf.keras.metrics.Mean(name='val_loss')\n",
    "test_loss_metric = tf.keras.metrics.Mean(name='test_loss')\n",
    "optimizer = tf.keras.optimizers.Adam(0.0001)\n",
    "train_loss_history = []\n",
    "val_loss_history = []\n",
    "\n",
    "# Define train/val steps\n",
    "@tf.function\n",
    "def train_step(x):\n",
    "    with tf.GradientTape() as tape:\n",
    "        x = tf.cast(x, tf.float32)\n",
    "        prob = pixel_cnn(x)\n",
    "        log_loss = nll(prob, x)\n",
    "    var = pixel_cnn.trainable_variables\n",
    "    gradients = tape.gradient(log_loss, var)\n",
    "    optimizer.apply_gradients(zip(gradients, var))\n",
    "    # Update the metrics\n",
    "    loss_metric.update_state(log_loss)\n",
    " \n",
    "\n",
    "@tf.function\n",
    "def val_step(x):\n",
    "    x = tf.cast(x, tf.float32)\n",
    "    prob = pixel_cnn(x)\n",
    "    log_loss = nll(prob, x)\n",
    "    val_loss_metric.update_state(log_loss)\n",
    "    \n",
    "\n",
    "@tf.function\n",
    "def test_step(x,idx):\n",
    "    x = tf.cast(x, tf.float32)\n",
    "    prob = pixel_cnn(x)\n",
    "    log_loss = nll(prob, x)\n",
    "    test_loss_metric.update_state(log_loss)\n",
    "    tf.print('process batch {}/{}'.format(idx,len(test)//BATCH_SIZE))"
   ]
  },
  {
   "cell_type": "code",
   "execution_count": 46,
   "metadata": {
    "colab": {
     "base_uri": "https://localhost:8080/",
     "height": 503
    },
    "colab_type": "code",
    "id": "q4iuMkwWR0Wn",
    "outputId": "52f2a8c4-cea9-46b8-ff4b-d997dffeb603"
   },
   "outputs": [
    {
     "name": "stdout",
     "output_type": "stream",
     "text": [
      "Epoch:  0\n",
      "  train loss:     0.152\n",
      "  val loss: 0.152\n",
      "Epoch:  1\n",
      "  train loss:     0.151\n",
      "  val loss: 0.152\n"
     ]
    },
    {
     "ename": "KeyboardInterrupt",
     "evalue": "ignored",
     "output_type": "error",
     "traceback": [
      "\u001b[0;31m---------------------------------------------------------------------------\u001b[0m",
      "\u001b[0;31mKeyboardInterrupt\u001b[0m                         Traceback (most recent call last)",
      "\u001b[0;32m<ipython-input-46-5112071f93ee>\u001b[0m in \u001b[0;36m<module>\u001b[0;34m()\u001b[0m\n\u001b[1;32m      4\u001b[0m     \u001b[0mtrain_dset\u001b[0m \u001b[0;34m=\u001b[0m \u001b[0mtrain_dset\u001b[0m\u001b[0;34m.\u001b[0m\u001b[0mshuffle\u001b[0m\u001b[0;34m(\u001b[0m\u001b[0mbuffer_size\u001b[0m\u001b[0;34m=\u001b[0m\u001b[0;36m10000\u001b[0m\u001b[0;34m)\u001b[0m\u001b[0;34m\u001b[0m\u001b[0;34m\u001b[0m\u001b[0m\n\u001b[1;32m      5\u001b[0m     \u001b[0;32mfor\u001b[0m \u001b[0mtrain_data\u001b[0m \u001b[0;32min\u001b[0m \u001b[0mtrain_dset\u001b[0m\u001b[0;34m:\u001b[0m\u001b[0;34m\u001b[0m\u001b[0;34m\u001b[0m\u001b[0m\n\u001b[0;32m----> 6\u001b[0;31m         \u001b[0mtrain_step\u001b[0m\u001b[0;34m(\u001b[0m\u001b[0mtrain_data\u001b[0m\u001b[0;34m)\u001b[0m\u001b[0;34m\u001b[0m\u001b[0;34m\u001b[0m\u001b[0m\n\u001b[0m\u001b[1;32m      7\u001b[0m \u001b[0;34m\u001b[0m\u001b[0m\n\u001b[1;32m      8\u001b[0m     \u001b[0;31m# Repeat the same process for val set\u001b[0m\u001b[0;34m\u001b[0m\u001b[0;34m\u001b[0m\u001b[0;34m\u001b[0m\u001b[0m\n",
      "\u001b[0;32m/usr/local/lib/python3.6/dist-packages/tensorflow/python/eager/def_function.py\u001b[0m in \u001b[0;36m__call__\u001b[0;34m(self, *args, **kwds)\u001b[0m\n\u001b[1;32m    412\u001b[0m       \u001b[0;31m# In this case we have created variables on the first call, so we run the\u001b[0m\u001b[0;34m\u001b[0m\u001b[0;34m\u001b[0m\u001b[0;34m\u001b[0m\u001b[0m\n\u001b[1;32m    413\u001b[0m       \u001b[0;31m# defunned version which is guaranteed to never create variables.\u001b[0m\u001b[0;34m\u001b[0m\u001b[0;34m\u001b[0m\u001b[0;34m\u001b[0m\u001b[0m\n\u001b[0;32m--> 414\u001b[0;31m       \u001b[0;32mreturn\u001b[0m \u001b[0mself\u001b[0m\u001b[0;34m.\u001b[0m\u001b[0m_stateless_fn\u001b[0m\u001b[0;34m(\u001b[0m\u001b[0;34m*\u001b[0m\u001b[0margs\u001b[0m\u001b[0;34m,\u001b[0m \u001b[0;34m**\u001b[0m\u001b[0mkwds\u001b[0m\u001b[0;34m)\u001b[0m  \u001b[0;31m# pylint: disable=not-callable\u001b[0m\u001b[0;34m\u001b[0m\u001b[0;34m\u001b[0m\u001b[0m\n\u001b[0m\u001b[1;32m    415\u001b[0m     \u001b[0;32melif\u001b[0m \u001b[0mself\u001b[0m\u001b[0;34m.\u001b[0m\u001b[0m_stateful_fn\u001b[0m \u001b[0;32mis\u001b[0m \u001b[0;32mnot\u001b[0m \u001b[0;32mNone\u001b[0m\u001b[0;34m:\u001b[0m\u001b[0;34m\u001b[0m\u001b[0;34m\u001b[0m\u001b[0m\n\u001b[1;32m    416\u001b[0m       \u001b[0;31m# In this case we have not created variables on the first call. So we can\u001b[0m\u001b[0;34m\u001b[0m\u001b[0;34m\u001b[0m\u001b[0;34m\u001b[0m\u001b[0m\n",
      "\u001b[0;32m/usr/local/lib/python3.6/dist-packages/tensorflow/python/eager/function.py\u001b[0m in \u001b[0;36m__call__\u001b[0;34m(self, *args, **kwargs)\u001b[0m\n\u001b[1;32m   1286\u001b[0m     \u001b[0;34m\"\"\"Calls a graph function specialized to the inputs.\"\"\"\u001b[0m\u001b[0;34m\u001b[0m\u001b[0;34m\u001b[0m\u001b[0m\n\u001b[1;32m   1287\u001b[0m     \u001b[0mgraph_function\u001b[0m\u001b[0;34m,\u001b[0m \u001b[0margs\u001b[0m\u001b[0;34m,\u001b[0m \u001b[0mkwargs\u001b[0m \u001b[0;34m=\u001b[0m \u001b[0mself\u001b[0m\u001b[0;34m.\u001b[0m\u001b[0m_maybe_define_function\u001b[0m\u001b[0;34m(\u001b[0m\u001b[0margs\u001b[0m\u001b[0;34m,\u001b[0m \u001b[0mkwargs\u001b[0m\u001b[0;34m)\u001b[0m\u001b[0;34m\u001b[0m\u001b[0;34m\u001b[0m\u001b[0m\n\u001b[0;32m-> 1288\u001b[0;31m     \u001b[0;32mreturn\u001b[0m \u001b[0mgraph_function\u001b[0m\u001b[0;34m.\u001b[0m\u001b[0m_filtered_call\u001b[0m\u001b[0;34m(\u001b[0m\u001b[0margs\u001b[0m\u001b[0;34m,\u001b[0m \u001b[0mkwargs\u001b[0m\u001b[0;34m)\u001b[0m  \u001b[0;31m# pylint: disable=protected-access\u001b[0m\u001b[0;34m\u001b[0m\u001b[0;34m\u001b[0m\u001b[0m\n\u001b[0m\u001b[1;32m   1289\u001b[0m \u001b[0;34m\u001b[0m\u001b[0m\n\u001b[1;32m   1290\u001b[0m   \u001b[0;34m@\u001b[0m\u001b[0mproperty\u001b[0m\u001b[0;34m\u001b[0m\u001b[0;34m\u001b[0m\u001b[0m\n",
      "\u001b[0;32m/usr/local/lib/python3.6/dist-packages/tensorflow/python/eager/function.py\u001b[0m in \u001b[0;36m_filtered_call\u001b[0;34m(self, args, kwargs)\u001b[0m\n\u001b[1;32m    572\u001b[0m     \"\"\"\n\u001b[1;32m    573\u001b[0m     return self._call_flat(\n\u001b[0;32m--> 574\u001b[0;31m         (t for t in nest.flatten((args, kwargs))\n\u001b[0m\u001b[1;32m    575\u001b[0m          if isinstance(t, (ops.Tensor,\n\u001b[1;32m    576\u001b[0m                            resource_variable_ops.ResourceVariable))))\n",
      "\u001b[0;32m/usr/local/lib/python3.6/dist-packages/tensorflow/python/eager/function.py\u001b[0m in \u001b[0;36m_call_flat\u001b[0;34m(self, args)\u001b[0m\n\u001b[1;32m    625\u001b[0m     \u001b[0;31m# Only need to override the gradient in graph mode and when we have outputs.\u001b[0m\u001b[0;34m\u001b[0m\u001b[0;34m\u001b[0m\u001b[0;34m\u001b[0m\u001b[0m\n\u001b[1;32m    626\u001b[0m     \u001b[0;32mif\u001b[0m \u001b[0mcontext\u001b[0m\u001b[0;34m.\u001b[0m\u001b[0mexecuting_eagerly\u001b[0m\u001b[0;34m(\u001b[0m\u001b[0;34m)\u001b[0m \u001b[0;32mor\u001b[0m \u001b[0;32mnot\u001b[0m \u001b[0mself\u001b[0m\u001b[0;34m.\u001b[0m\u001b[0moutputs\u001b[0m\u001b[0;34m:\u001b[0m\u001b[0;34m\u001b[0m\u001b[0;34m\u001b[0m\u001b[0m\n\u001b[0;32m--> 627\u001b[0;31m       \u001b[0moutputs\u001b[0m \u001b[0;34m=\u001b[0m \u001b[0mself\u001b[0m\u001b[0;34m.\u001b[0m\u001b[0m_inference_function\u001b[0m\u001b[0;34m.\u001b[0m\u001b[0mcall\u001b[0m\u001b[0;34m(\u001b[0m\u001b[0mctx\u001b[0m\u001b[0;34m,\u001b[0m \u001b[0margs\u001b[0m\u001b[0;34m)\u001b[0m\u001b[0;34m\u001b[0m\u001b[0;34m\u001b[0m\u001b[0m\n\u001b[0m\u001b[1;32m    628\u001b[0m     \u001b[0;32melse\u001b[0m\u001b[0;34m:\u001b[0m\u001b[0;34m\u001b[0m\u001b[0;34m\u001b[0m\u001b[0m\n\u001b[1;32m    629\u001b[0m       \u001b[0mself\u001b[0m\u001b[0;34m.\u001b[0m\u001b[0m_register_gradient\u001b[0m\u001b[0;34m(\u001b[0m\u001b[0;34m)\u001b[0m\u001b[0;34m\u001b[0m\u001b[0;34m\u001b[0m\u001b[0m\n",
      "\u001b[0;32m/usr/local/lib/python3.6/dist-packages/tensorflow/python/eager/function.py\u001b[0m in \u001b[0;36mcall\u001b[0;34m(self, ctx, args)\u001b[0m\n\u001b[1;32m    413\u001b[0m             attrs=(\"executor_type\", executor_type,\n\u001b[1;32m    414\u001b[0m                    \"config_proto\", config),\n\u001b[0;32m--> 415\u001b[0;31m             ctx=ctx)\n\u001b[0m\u001b[1;32m    416\u001b[0m       \u001b[0;31m# Replace empty list with None\u001b[0m\u001b[0;34m\u001b[0m\u001b[0;34m\u001b[0m\u001b[0;34m\u001b[0m\u001b[0m\n\u001b[1;32m    417\u001b[0m       \u001b[0moutputs\u001b[0m \u001b[0;34m=\u001b[0m \u001b[0moutputs\u001b[0m \u001b[0;32mor\u001b[0m \u001b[0;32mNone\u001b[0m\u001b[0;34m\u001b[0m\u001b[0;34m\u001b[0m\u001b[0m\n",
      "\u001b[0;32m/usr/local/lib/python3.6/dist-packages/tensorflow/python/eager/execute.py\u001b[0m in \u001b[0;36mquick_execute\u001b[0;34m(op_name, num_outputs, inputs, attrs, ctx, name)\u001b[0m\n\u001b[1;32m     58\u001b[0m     tensors = pywrap_tensorflow.TFE_Py_Execute(ctx._handle, device_name,\n\u001b[1;32m     59\u001b[0m                                                \u001b[0mop_name\u001b[0m\u001b[0;34m,\u001b[0m \u001b[0minputs\u001b[0m\u001b[0;34m,\u001b[0m \u001b[0mattrs\u001b[0m\u001b[0;34m,\u001b[0m\u001b[0;34m\u001b[0m\u001b[0;34m\u001b[0m\u001b[0m\n\u001b[0;32m---> 60\u001b[0;31m                                                num_outputs)\n\u001b[0m\u001b[1;32m     61\u001b[0m   \u001b[0;32mexcept\u001b[0m \u001b[0mcore\u001b[0m\u001b[0;34m.\u001b[0m\u001b[0m_NotOkStatusException\u001b[0m \u001b[0;32mas\u001b[0m \u001b[0me\u001b[0m\u001b[0;34m:\u001b[0m\u001b[0;34m\u001b[0m\u001b[0;34m\u001b[0m\u001b[0m\n\u001b[1;32m     62\u001b[0m     \u001b[0;32mif\u001b[0m \u001b[0mname\u001b[0m \u001b[0;32mis\u001b[0m \u001b[0;32mnot\u001b[0m \u001b[0;32mNone\u001b[0m\u001b[0;34m:\u001b[0m\u001b[0;34m\u001b[0m\u001b[0;34m\u001b[0m\u001b[0m\n",
      "\u001b[0;31mKeyboardInterrupt\u001b[0m: "
     ]
    }
   ],
   "source": [
    "for epoch in range(NUM_EPOCHS):\n",
    "    # Reset the metrics\n",
    "    loss_metric.reset_states()\n",
    "    train_dset = train_dset.shuffle(buffer_size=10000)\n",
    "    for train_data in train_dset:\n",
    "        train_step(train_data)\n",
    "        \n",
    "    # Repeat the same process for val set\n",
    "    val_loss_metric.reset_states()\n",
    "    for val_data in val_dset:\n",
    "        val_step(val_data)\n",
    "    # Get the metric results\n",
    "    mean_loss = loss_metric.result().numpy() * np.log2(np.e)\n",
    "    mean_val_loss = val_loss_metric.result().numpy() * np.log2(np.e)\n",
    "    train_loss_history.append(mean_loss)\n",
    "    val_loss_history.append(mean_val_loss)\n",
    "\n",
    "    print('Epoch: ', epoch)\n",
    "    print('  train loss:     {:.3f}'.format(mean_loss))\n",
    "    print('  val loss: {:.3f}'.format(mean_val_loss))"
   ]
  },
  {
   "cell_type": "code",
   "execution_count": null,
   "metadata": {
    "colab": {},
    "colab_type": "code",
    "collapsed": true,
    "id": "mt6tqhgHR0Ws"
   },
   "outputs": [],
   "source": [
    "# make_dir('./test')\n",
    "# pixel_cnn.save_weights('./test/test_weight', save_format='tf')"
   ]
  },
  {
   "cell_type": "code",
   "execution_count": 33,
   "metadata": {},
   "outputs": [
    {
     "data": {
      "text/plain": [
       "<tensorflow.python.training.tracking.util.CheckpointLoadStatus at 0x13a39a908>"
      ]
     },
     "execution_count": 33,
     "metadata": {},
     "output_type": "execute_result"
    }
   ],
   "source": [
    "pixel_cnn.load_weights('./test/test_weight')"
   ]
  },
  {
   "cell_type": "code",
   "execution_count": 8,
   "metadata": {
    "colab": {},
    "colab_type": "code",
    "collapsed": true,
    "id": "itqlylTtR0Wu"
   },
   "outputs": [
    {
     "name": "stdout",
     "output_type": "stream",
     "text": [
      "tf.Tensor(2.112476, shape=(), dtype=float32)\n"
     ]
    }
   ],
   "source": [
    "dummy = tf.Variable(train[:1])\n",
    "out = pixel_cnn(dummy,training=True)\n",
    "print(nll(out, dummy)*np.log2(np.e)) \n",
    "# "
   ]
  },
  {
   "cell_type": "code",
   "execution_count": 9,
   "metadata": {},
   "outputs": [
    {
     "name": "stdout",
     "output_type": "stream",
     "text": [
      "Model: \"pixel_cnn\"\n",
      "_________________________________________________________________\n",
      "Layer (type)                 Output Shape              Param #   \n",
      "=================================================================\n",
      "res_net_block (ResNetBlock)  multiple                  54217     \n",
      "_________________________________________________________________\n",
      "res_net_block_1 (ResNetBlock multiple                  54217     \n",
      "_________________________________________________________________\n",
      "res_net_block_2 (ResNetBlock multiple                  54217     \n",
      "_________________________________________________________________\n",
      "res_net_block_3 (ResNetBlock multiple                  54217     \n",
      "_________________________________________________________________\n",
      "res_net_block_4 (ResNetBlock multiple                  54217     \n",
      "_________________________________________________________________\n",
      "res_net_block_5 (ResNetBlock multiple                  54217     \n",
      "_________________________________________________________________\n",
      "res_net_block_6 (ResNetBlock multiple                  54217     \n",
      "_________________________________________________________________\n",
      "res_net_block_7 (ResNetBlock multiple                  54217     \n",
      "_________________________________________________________________\n",
      "res_net_block_8 (ResNetBlock multiple                  54217     \n",
      "_________________________________________________________________\n",
      "res_net_block_9 (ResNetBlock multiple                  54217     \n",
      "_________________________________________________________________\n",
      "res_net_block_10 (ResNetBloc multiple                  54217     \n",
      "_________________________________________________________________\n",
      "res_net_block_11 (ResNetBloc multiple                  54217     \n",
      "_________________________________________________________________\n",
      "masked_conv2d_12 (MaskedConv multiple                  147593    \n",
      "_________________________________________________________________\n",
      "masked_conv2d_13 (MaskedConv multiple                  18993     \n",
      "_________________________________________________________________\n",
      "conv2d_24 (Conv2D)           multiple                  16384     \n",
      "_________________________________________________________________\n",
      "conv2d_25 (Conv2D)           multiple                  1548      \n",
      "_________________________________________________________________\n",
      "batch_normalization_24 (Batc multiple                  512       \n",
      "_________________________________________________________________\n",
      "batch_normalization_25 (Batc multiple                  512       \n",
      "_________________________________________________________________\n",
      "batch_normalization_26 (Batc multiple                  512       \n",
      "=================================================================\n",
      "Total params: 836,658\n",
      "Trainable params: 831,116\n",
      "Non-trainable params: 5,542\n",
      "_________________________________________________________________\n"
     ]
    }
   ],
   "source": [
    "pixel_cnn."
   ]
  },
  {
   "cell_type": "code",
   "execution_count": 22,
   "metadata": {},
   "outputs": [
    {
     "name": "stdout",
     "output_type": "stream",
     "text": [
      "process batch 0/78\n",
      "process batch 1/78\n",
      "process batch 2/78\n",
      "process batch 3/78\n",
      "process batch 4/78\n",
      "process batch 5/78\n",
      "process batch 6/78\n",
      "process batch 7/78\n",
      "process batch 8/78\n",
      "process batch 9/78\n",
      "process batch 10/78\n",
      "process batch 11/78\n",
      "process batch 12/78\n",
      "process batch 13/78\n",
      "process batch 14/78\n",
      "process batch 15/78\n",
      "process batch 16/78\n",
      "process batch 17/78\n",
      "process batch 18/78\n",
      "process batch 19/78\n",
      "process batch 20/78\n",
      "process batch 21/78\n",
      "process batch 22/78\n",
      "process batch 23/78\n",
      "process batch 24/78\n",
      "process batch 25/78\n",
      "process batch 26/78\n",
      "process batch 27/78\n",
      "process batch 28/78\n",
      "process batch 29/78\n",
      "process batch 30/78\n",
      "process batch 31/78\n",
      "process batch 32/78\n",
      "process batch 33/78\n",
      "process batch 34/78\n",
      "process batch 35/78\n",
      "process batch 36/78\n",
      "process batch 37/78\n",
      "process batch 38/78\n",
      "process batch 39/78\n",
      "process batch 40/78\n",
      "process batch 41/78\n",
      "process batch 42/78\n",
      "process batch 43/78\n",
      "process batch 44/78\n",
      "process batch 45/78\n",
      "process batch 46/78\n",
      "process batch 47/78\n",
      "process batch 48/78\n",
      "process batch 49/78\n",
      "process batch 50/78\n",
      "process batch 51/78\n",
      "process batch 52/78\n",
      "process batch 53/78\n",
      "process batch 54/78\n",
      "process batch 55/78\n",
      "process batch 56/78\n",
      "process batch 57/78\n",
      "process batch 58/78\n",
      "process batch 59/78\n",
      "process batch 60/78\n",
      "process batch 61/78\n",
      "process batch 62/78\n",
      "process batch 63/78\n",
      "process batch 64/78\n",
      "process batch 65/78\n",
      "process batch 66/78\n",
      "process batch 67/78\n",
      "process batch 68/78\n",
      "process batch 69/78\n",
      "process batch 70/78\n",
      "process batch 71/78\n",
      "process batch 72/78\n",
      "process batch 73/78\n",
      "process batch 74/78\n",
      "process batch 75/78\n",
      "process batch 76/78\n",
      "process batch 77/78\n",
      "process batch 78/78\n",
      "  test loss: 1.756\n"
     ]
    }
   ],
   "source": [
    "test_loss_metric.reset_states()\n",
    "for idx,test_data in enumerate(test_dset):\n",
    "    test_step(test_data,idx)\n",
    "# Get the metric results\n",
    "mean_test_loss = test_loss_metric.result().numpy()\n",
    "#mean_test_loss = mean_test_loss*np.log2(np.e) \n",
    "print('  test loss: {:.3f}'.format(mean_test_loss))"
   ]
  },
  {
   "cell_type": "code",
   "execution_count": 33,
   "metadata": {},
   "outputs": [
    {
     "name": "stdout",
     "output_type": "stream",
     "text": [
      "test loss: 2.533 bits/dim\n"
     ]
    }
   ],
   "source": [
    "print('test loss: {:.3f} bits/dim'.format(mean_test_loss*np.log2(np.e)))"
   ]
  },
  {
   "cell_type": "code",
   "execution_count": 49,
   "metadata": {
    "colab": {
     "base_uri": "https://localhost:8080/",
     "height": 621
    },
    "colab_type": "code",
    "id": "F26uevKSTPaP",
    "outputId": "26694366-b923-456b-dd25-73e76a585c18"
   },
   "outputs": [
    {
     "data": {
      "image/png": "[encoded data removed]",
      "text/plain": [
       "<Figure size 1440x720 with 1 Axes>"
      ]
     },
     "metadata": {
      "tags": []
     },
     "output_type": "display_data"
    }
   ],
   "source": [
    "plot_training_history('loss (bits/dim)','Epoch', val_loss_history, [train_loss_history], \n",
    "                     train_marker='-o', val_marker='-o')\n",
    "plt.gcf().set_size_inches(20, 10)\n",
    "plt.show()"
   ]
  },
  {
   "cell_type": "code",
   "execution_count": 14,
   "metadata": {},
   "outputs": [
    {
     "data": {
      "text/plain": [
       "<matplotlib.image.AxesImage at 0x13b37fa20>"
      ]
     },
     "execution_count": 14,
     "metadata": {},
     "output_type": "execute_result"
    },
    {
     "data": {
      "image/png": "[encoded data removed]",
      "text/plain": [
       "<Figure size 432x288 with 1 Axes>"
      ]
     },
     "metadata": {
      "needs_background": "light"
     },
     "output_type": "display_data"
    }
   ],
   "source": [
    "plt.imshow(train_raw[233].astype(np.int32) * 255 // 3)"
   ]
  },
  {
   "cell_type": "code",
   "execution_count": 9,
   "metadata": {},
   "outputs": [
    {
     "name": "stdout",
     "output_type": "stream",
     "text": [
      "i:0, j:0, k:0\n",
      "[0.25 0.25 0.25 0.25]\n",
      "i:0, j:0, k:1\n",
      "[0.25 0.25 0.25 0.25]\n",
      "i:0, j:0, k:2\n",
      "[0.25 0.25 0.25 0.25]\n",
      "i:0, j:1, k:0\n",
      "[0.48385495 0.08534414 0.22447866 0.20632228]\n",
      "i:0, j:1, k:1\n",
      "[0.09565827 0.4385409  0.44190577 0.02389499]\n",
      "i:0, j:1, k:2\n",
      "[0.15863678 0.639822   0.05757987 0.14396134]\n",
      "i:0, j:2, k:0\n",
      "[0.295894   0.05824264 0.54468346 0.10117989]\n",
      "i:0, j:2, k:1\n",
      "[0.12496042 0.2574083  0.5842457  0.03338553]\n",
      "i:0, j:2, k:2\n",
      "[0.12237672 0.6864042  0.07134432 0.11987472]\n",
      "i:0, j:3, k:0\n",
      "[0.26819932 0.09351493 0.5126311  0.12565468]\n",
      "i:0, j:3, k:1\n",
      "[0.15591091 0.2751987  0.54010224 0.02878818]\n",
      "i:0, j:3, k:2\n",
      "[0.2105729  0.6689493  0.0514078  0.06907003]\n",
      "i:0, j:4, k:0\n",
      "[0.32416427 0.07117819 0.52085257 0.08380498]\n",
      "i:0, j:4, k:1\n",
      "[0.18031019 0.27772516 0.49685773 0.04510695]\n",
      "i:0, j:4, k:2\n",
      "[0.21010654 0.62101257 0.03810662 0.13077433]\n",
      "i:0, j:5, k:0\n",
      "[0.40627453 0.05616354 0.45358813 0.08397382]\n",
      "i:0, j:5, k:1\n",
      "[0.17475708 0.26806748 0.5162369  0.04093856]\n",
      "i:0, j:5, k:2\n",
      "[0.21560313 0.63045156 0.03843709 0.11550823]\n",
      "i:0, j:6, k:0\n",
      "[0.32988104 0.06509305 0.5299761  0.07504983]\n",
      "i:0, j:6, k:1\n",
      "[0.18904334 0.3329743  0.44211534 0.03586702]\n",
      "i:0, j:6, k:2\n",
      "[0.18225048 0.62338877 0.0465946  0.14776611]\n",
      "i:0, j:7, k:0\n",
      "[0.36919212 0.07933892 0.45234072 0.09912829]\n",
      "i:0, j:7, k:1\n",
      "[0.20210858 0.26106516 0.50153124 0.03529503]\n",
      "i:0, j:7, k:2\n",
      "[0.25160137 0.5348554  0.05083083 0.16271237]\n",
      "i:0, j:8, k:0\n",
      "[0.33094722 0.08106722 0.5281354  0.05985012]\n",
      "i:0, j:8, k:1\n",
      "[0.16721576 0.27402687 0.52598643 0.03277092]\n",
      "i:0, j:8, k:2\n",
      "[0.24151109 0.543532   0.04190752 0.17304938]\n",
      "i:0, j:9, k:0\n",
      "[0.36724997 0.06913681 0.5017734  0.06183979]\n",
      "i:0, j:9, k:1\n",
      "[0.17055792 0.2997354  0.48810598 0.0416007 ]\n",
      "i:0, j:9, k:2\n",
      "[0.20966437 0.5864237  0.04968549 0.15422644]\n",
      "i:0, j:10, k:0\n",
      "[0.3512537  0.07054787 0.50084573 0.07735272]\n",
      "i:0, j:10, k:1\n",
      "[0.17284219 0.33178094 0.4683446  0.02703222]\n",
      "i:0, j:10, k:2\n",
      "[0.19785455 0.5703644  0.04684702 0.18493403]\n",
      "i:0, j:11, k:0\n",
      "[0.3438141  0.07329915 0.5051064  0.07778038]\n",
      "i:0, j:11, k:1\n",
      "[0.19481927 0.28832155 0.47673327 0.04012593]\n",
      "i:0, j:11, k:2\n",
      "[0.21595782 0.5813928  0.04971771 0.15293166]\n",
      "i:0, j:12, k:0\n",
      "[0.29671597 0.0774511  0.56613135 0.05970151]\n",
      "i:0, j:12, k:1\n",
      "[0.1638293  0.26620632 0.53889924 0.03106518]\n",
      "i:0, j:12, k:2\n",
      "[0.21472391 0.5533854  0.04402621 0.18786456]\n",
      "i:0, j:13, k:0\n",
      "[0.36272755 0.07967726 0.47590798 0.08168716]\n"
     ]
    },
    {
     "ename": "KeyboardInterrupt",
     "evalue": "",
     "output_type": "error",
     "traceback": [
      "\u001b[0;31m---------------------------------------------------------------------------\u001b[0m",
      "\u001b[0;31mKeyboardInterrupt\u001b[0m                         Traceback (most recent call last)",
      "\u001b[0;32m<ipython-input-9-852b1e1bec17>\u001b[0m in \u001b[0;36m<module>\u001b[0;34m\u001b[0m\n\u001b[0;32m----> 1\u001b[0;31m \u001b[0mimg\u001b[0m \u001b[0;34m=\u001b[0m \u001b[0msample_image\u001b[0m\u001b[0;34m(\u001b[0m\u001b[0;36m1\u001b[0m\u001b[0;34m,\u001b[0m \u001b[0mpixel_cnn\u001b[0m\u001b[0;34m)\u001b[0m\u001b[0;34m\u001b[0m\u001b[0m\n\u001b[0m",
      "\u001b[0;32m~/Program/cs294_158/HW1/utils.py\u001b[0m in \u001b[0;36msample_image\u001b[0;34m(batch_size, model)\u001b[0m\n\u001b[1;32m    211\u001b[0m         \u001b[0;32mfor\u001b[0m \u001b[0mj\u001b[0m \u001b[0;32min\u001b[0m \u001b[0mrange\u001b[0m\u001b[0;34m(\u001b[0m\u001b[0;36m28\u001b[0m\u001b[0;34m)\u001b[0m\u001b[0;34m:\u001b[0m\u001b[0;34m\u001b[0m\u001b[0m\n\u001b[1;32m    212\u001b[0m             \u001b[0;32mfor\u001b[0m \u001b[0mk\u001b[0m \u001b[0;32min\u001b[0m \u001b[0mrange\u001b[0m\u001b[0;34m(\u001b[0m\u001b[0;36m3\u001b[0m\u001b[0;34m)\u001b[0m\u001b[0;34m:\u001b[0m\u001b[0;34m\u001b[0m\u001b[0m\n\u001b[0;32m--> 213\u001b[0;31m                 \u001b[0mprob_output\u001b[0m \u001b[0;34m=\u001b[0m  \u001b[0mmodel\u001b[0m\u001b[0;34m(\u001b[0m\u001b[0mtf\u001b[0m\u001b[0;34m.\u001b[0m\u001b[0mVariable\u001b[0m\u001b[0;34m(\u001b[0m\u001b[0mimage\u001b[0m\u001b[0;34m,\u001b[0m \u001b[0mdtype\u001b[0m\u001b[0;34m=\u001b[0m\u001b[0mtf\u001b[0m\u001b[0;34m.\u001b[0m\u001b[0mfloat32\u001b[0m\u001b[0;34m,\u001b[0m \u001b[0mtrainable\u001b[0m\u001b[0;34m=\u001b[0m\u001b[0;32mFalse\u001b[0m\u001b[0;34m)\u001b[0m\u001b[0;34m)\u001b[0m\u001b[0;34m.\u001b[0m\u001b[0mnumpy\u001b[0m\u001b[0;34m(\u001b[0m\u001b[0;34m)\u001b[0m\u001b[0;34m\u001b[0m\u001b[0m\n\u001b[0m\u001b[1;32m    214\u001b[0m                 \u001b[0mprob_output\u001b[0m \u001b[0;34m=\u001b[0m \u001b[0mprob_output\u001b[0m\u001b[0;34m.\u001b[0m\u001b[0mreshape\u001b[0m\u001b[0;34m(\u001b[0m\u001b[0;34m(\u001b[0m\u001b[0mbatch_size\u001b[0m\u001b[0;34m,\u001b[0m\u001b[0;36m28\u001b[0m\u001b[0;34m,\u001b[0m\u001b[0;36m28\u001b[0m\u001b[0;34m,\u001b[0m\u001b[0;36m3\u001b[0m\u001b[0;34m,\u001b[0m\u001b[0;34m-\u001b[0m\u001b[0;36m1\u001b[0m\u001b[0;34m)\u001b[0m\u001b[0;34m)\u001b[0m\u001b[0;34m\u001b[0m\u001b[0m\n\u001b[1;32m    215\u001b[0m \u001b[0;34m\u001b[0m\u001b[0m\n",
      "\u001b[0;32m~/anaconda3/envs/tf2env/lib/python3.6/site-packages/tensorflow/python/keras/engine/base_layer.py\u001b[0m in \u001b[0;36m__call__\u001b[0;34m(self, inputs, *args, **kwargs)\u001b[0m\n\u001b[1;32m    710\u001b[0m           with base_layer_utils.autocast_context_manager(\n\u001b[1;32m    711\u001b[0m               input_list, self._mixed_precision_policy.should_cast_variables):\n\u001b[0;32m--> 712\u001b[0;31m             \u001b[0moutputs\u001b[0m \u001b[0;34m=\u001b[0m \u001b[0mself\u001b[0m\u001b[0;34m.\u001b[0m\u001b[0mcall\u001b[0m\u001b[0;34m(\u001b[0m\u001b[0minputs\u001b[0m\u001b[0;34m,\u001b[0m \u001b[0;34m*\u001b[0m\u001b[0margs\u001b[0m\u001b[0;34m,\u001b[0m \u001b[0;34m**\u001b[0m\u001b[0mkwargs\u001b[0m\u001b[0;34m)\u001b[0m\u001b[0;34m\u001b[0m\u001b[0m\n\u001b[0m\u001b[1;32m    713\u001b[0m           \u001b[0mself\u001b[0m\u001b[0;34m.\u001b[0m\u001b[0m_handle_activity_regularization\u001b[0m\u001b[0;34m(\u001b[0m\u001b[0minputs\u001b[0m\u001b[0;34m,\u001b[0m \u001b[0moutputs\u001b[0m\u001b[0;34m)\u001b[0m\u001b[0;34m\u001b[0m\u001b[0m\n\u001b[1;32m    714\u001b[0m           \u001b[0mself\u001b[0m\u001b[0;34m.\u001b[0m\u001b[0m_set_mask_metadata\u001b[0m\u001b[0;34m(\u001b[0m\u001b[0minputs\u001b[0m\u001b[0;34m,\u001b[0m \u001b[0moutputs\u001b[0m\u001b[0;34m,\u001b[0m \u001b[0minput_masks\u001b[0m\u001b[0;34m)\u001b[0m\u001b[0;34m\u001b[0m\u001b[0m\n",
      "\u001b[0;32m~/anaconda3/envs/tf2env/lib/python3.6/site-packages/tensorflow/python/eager/def_function.py\u001b[0m in \u001b[0;36m__call__\u001b[0;34m(self, *args, **kwds)\u001b[0m\n\u001b[1;32m    402\u001b[0m       \u001b[0;31m# In this case we have created variables on the first call, so we run the\u001b[0m\u001b[0;34m\u001b[0m\u001b[0;34m\u001b[0m\u001b[0m\n\u001b[1;32m    403\u001b[0m       \u001b[0;31m# defunned version which is guaranteed to never create variables.\u001b[0m\u001b[0;34m\u001b[0m\u001b[0;34m\u001b[0m\u001b[0m\n\u001b[0;32m--> 404\u001b[0;31m       \u001b[0;32mreturn\u001b[0m \u001b[0mself\u001b[0m\u001b[0;34m.\u001b[0m\u001b[0m_stateless_fn\u001b[0m\u001b[0;34m(\u001b[0m\u001b[0;34m*\u001b[0m\u001b[0margs\u001b[0m\u001b[0;34m,\u001b[0m \u001b[0;34m**\u001b[0m\u001b[0mkwds\u001b[0m\u001b[0;34m)\u001b[0m  \u001b[0;31m# pylint: disable=not-callable\u001b[0m\u001b[0;34m\u001b[0m\u001b[0m\n\u001b[0m\u001b[1;32m    405\u001b[0m     \u001b[0;32melif\u001b[0m \u001b[0mself\u001b[0m\u001b[0;34m.\u001b[0m\u001b[0m_stateful_fn\u001b[0m \u001b[0;32mis\u001b[0m \u001b[0;32mnot\u001b[0m \u001b[0;32mNone\u001b[0m\u001b[0;34m:\u001b[0m\u001b[0;34m\u001b[0m\u001b[0m\n\u001b[1;32m    406\u001b[0m       \u001b[0;31m# In this case we have not created variables on the first call. So we can\u001b[0m\u001b[0;34m\u001b[0m\u001b[0;34m\u001b[0m\u001b[0m\n",
      "\u001b[0;32m~/anaconda3/envs/tf2env/lib/python3.6/site-packages/tensorflow/python/eager/function.py\u001b[0m in \u001b[0;36m__call__\u001b[0;34m(self, *args, **kwargs)\u001b[0m\n\u001b[1;32m   1333\u001b[0m     \u001b[0;34m\"\"\"Calls a graph function specialized to the inputs.\"\"\"\u001b[0m\u001b[0;34m\u001b[0m\u001b[0m\n\u001b[1;32m   1334\u001b[0m     \u001b[0mgraph_function\u001b[0m\u001b[0;34m,\u001b[0m \u001b[0margs\u001b[0m\u001b[0;34m,\u001b[0m \u001b[0mkwargs\u001b[0m \u001b[0;34m=\u001b[0m \u001b[0mself\u001b[0m\u001b[0;34m.\u001b[0m\u001b[0m_maybe_define_function\u001b[0m\u001b[0;34m(\u001b[0m\u001b[0margs\u001b[0m\u001b[0;34m,\u001b[0m \u001b[0mkwargs\u001b[0m\u001b[0;34m)\u001b[0m\u001b[0;34m\u001b[0m\u001b[0m\n\u001b[0;32m-> 1335\u001b[0;31m     \u001b[0;32mreturn\u001b[0m \u001b[0mgraph_function\u001b[0m\u001b[0;34m.\u001b[0m\u001b[0m_filtered_call\u001b[0m\u001b[0;34m(\u001b[0m\u001b[0margs\u001b[0m\u001b[0;34m,\u001b[0m \u001b[0mkwargs\u001b[0m\u001b[0;34m)\u001b[0m  \u001b[0;31m# pylint: disable=protected-access\u001b[0m\u001b[0;34m\u001b[0m\u001b[0m\n\u001b[0m\u001b[1;32m   1336\u001b[0m \u001b[0;34m\u001b[0m\u001b[0m\n\u001b[1;32m   1337\u001b[0m   \u001b[0;34m@\u001b[0m\u001b[0mproperty\u001b[0m\u001b[0;34m\u001b[0m\u001b[0m\n",
      "\u001b[0;32m~/anaconda3/envs/tf2env/lib/python3.6/site-packages/tensorflow/python/eager/function.py\u001b[0m in \u001b[0;36m_filtered_call\u001b[0;34m(self, args, kwargs)\u001b[0m\n\u001b[1;32m    587\u001b[0m     \"\"\"\n\u001b[1;32m    588\u001b[0m     return self._call_flat(\n\u001b[0;32m--> 589\u001b[0;31m         (t for t in nest.flatten((args, kwargs), expand_composites=True)\n\u001b[0m\u001b[1;32m    590\u001b[0m          if isinstance(t, (ops.Tensor,\n\u001b[1;32m    591\u001b[0m                            resource_variable_ops.ResourceVariable))))\n",
      "\u001b[0;32m~/anaconda3/envs/tf2env/lib/python3.6/site-packages/tensorflow/python/eager/function.py\u001b[0m in \u001b[0;36m_call_flat\u001b[0;34m(self, args)\u001b[0m\n\u001b[1;32m    669\u001b[0m     \u001b[0;31m# Only need to override the gradient in graph mode and when we have outputs.\u001b[0m\u001b[0;34m\u001b[0m\u001b[0;34m\u001b[0m\u001b[0m\n\u001b[1;32m    670\u001b[0m     \u001b[0;32mif\u001b[0m \u001b[0mcontext\u001b[0m\u001b[0;34m.\u001b[0m\u001b[0mexecuting_eagerly\u001b[0m\u001b[0;34m(\u001b[0m\u001b[0;34m)\u001b[0m \u001b[0;32mor\u001b[0m \u001b[0;32mnot\u001b[0m \u001b[0mself\u001b[0m\u001b[0;34m.\u001b[0m\u001b[0moutputs\u001b[0m\u001b[0;34m:\u001b[0m\u001b[0;34m\u001b[0m\u001b[0m\n\u001b[0;32m--> 671\u001b[0;31m       \u001b[0moutputs\u001b[0m \u001b[0;34m=\u001b[0m \u001b[0mself\u001b[0m\u001b[0;34m.\u001b[0m\u001b[0m_inference_function\u001b[0m\u001b[0;34m.\u001b[0m\u001b[0mcall\u001b[0m\u001b[0;34m(\u001b[0m\u001b[0mctx\u001b[0m\u001b[0;34m,\u001b[0m \u001b[0margs\u001b[0m\u001b[0;34m)\u001b[0m\u001b[0;34m\u001b[0m\u001b[0m\n\u001b[0m\u001b[1;32m    672\u001b[0m     \u001b[0;32melse\u001b[0m\u001b[0;34m:\u001b[0m\u001b[0;34m\u001b[0m\u001b[0m\n\u001b[1;32m    673\u001b[0m       \u001b[0mself\u001b[0m\u001b[0;34m.\u001b[0m\u001b[0m_register_gradient\u001b[0m\u001b[0;34m(\u001b[0m\u001b[0;34m)\u001b[0m\u001b[0;34m\u001b[0m\u001b[0m\n",
      "\u001b[0;32m~/anaconda3/envs/tf2env/lib/python3.6/site-packages/tensorflow/python/eager/function.py\u001b[0m in \u001b[0;36mcall\u001b[0;34m(self, ctx, args)\u001b[0m\n\u001b[1;32m    443\u001b[0m             attrs=(\"executor_type\", executor_type,\n\u001b[1;32m    444\u001b[0m                    \"config_proto\", config),\n\u001b[0;32m--> 445\u001b[0;31m             ctx=ctx)\n\u001b[0m\u001b[1;32m    446\u001b[0m       \u001b[0;31m# Replace empty list with None\u001b[0m\u001b[0;34m\u001b[0m\u001b[0;34m\u001b[0m\u001b[0m\n\u001b[1;32m    447\u001b[0m       \u001b[0moutputs\u001b[0m \u001b[0;34m=\u001b[0m \u001b[0moutputs\u001b[0m \u001b[0;32mor\u001b[0m \u001b[0;32mNone\u001b[0m\u001b[0;34m\u001b[0m\u001b[0m\n",
      "\u001b[0;32m~/anaconda3/envs/tf2env/lib/python3.6/site-packages/tensorflow/python/eager/execute.py\u001b[0m in \u001b[0;36mquick_execute\u001b[0;34m(op_name, num_outputs, inputs, attrs, ctx, name)\u001b[0m\n\u001b[1;32m     59\u001b[0m     tensors = pywrap_tensorflow.TFE_Py_Execute(ctx._handle, device_name,\n\u001b[1;32m     60\u001b[0m                                                \u001b[0mop_name\u001b[0m\u001b[0;34m,\u001b[0m \u001b[0minputs\u001b[0m\u001b[0;34m,\u001b[0m \u001b[0mattrs\u001b[0m\u001b[0;34m,\u001b[0m\u001b[0;34m\u001b[0m\u001b[0m\n\u001b[0;32m---> 61\u001b[0;31m                                                num_outputs)\n\u001b[0m\u001b[1;32m     62\u001b[0m   \u001b[0;32mexcept\u001b[0m \u001b[0mcore\u001b[0m\u001b[0;34m.\u001b[0m\u001b[0m_NotOkStatusException\u001b[0m \u001b[0;32mas\u001b[0m \u001b[0me\u001b[0m\u001b[0;34m:\u001b[0m\u001b[0;34m\u001b[0m\u001b[0m\n\u001b[1;32m     63\u001b[0m     \u001b[0;32mif\u001b[0m \u001b[0mname\u001b[0m \u001b[0;32mis\u001b[0m \u001b[0;32mnot\u001b[0m \u001b[0;32mNone\u001b[0m\u001b[0;34m:\u001b[0m\u001b[0;34m\u001b[0m\u001b[0m\n",
      "\u001b[0;31mKeyboardInterrupt\u001b[0m: "
     ]
    }
   ],
   "source": [
    "img = sample_image(1, pixel_cnn)"
   ]
  },
  {
   "cell_type": "code",
   "execution_count": null,
   "metadata": {},
   "outputs": [],
   "source": [
    "plt.figure(figsize=(12, 12))\n",
    "for k in range(4):\n",
    "    for l in range(4):\n",
    "        plt.subplot(4, 4, 4 * k + l + 1)        \n",
    "        plt.imshow(img[4 * k + l].astype(np.uint8) * 255 // 3)\n",
    "        plt.axis('off')\n",
    "        plt.grid(False)\n",
    "plt.show()"
   ]
  },
  {
   "cell_type": "code",
   "execution_count": 19,
   "metadata": {},
   "outputs": [],
   "source": [
    "a = tf.one_hot(tf.Variable(test[:1],dtype=tf.uint8),depth=4)"
   ]
  },
  {
   "cell_type": "code",
   "execution_count": null,
   "metadata": {},
   "outputs": [],
   "source": []
  }
 ],
 "metadata": {
  "accelerator": "GPU",
  "colab": {
   "collapsed_sections": [],
   "name": "HW1_3.ipynb",
   "provenance": [],
   "toc_visible": true,
   "version": "0.3.2"
  },
  "kernelspec": {
   "display_name": "Python 3",
   "language": "python",
   "name": "python3"
  },
  "language_info": {
   "codemirror_mode": {
    "name": "ipython",
    "version": 3
   },
   "file_extension": ".py",
   "mimetype": "text/x-python",
   "name": "python",
   "nbconvert_exporter": "python",
   "pygments_lexer": "ipython3",
   "version": "3.6.0"
  }
 },
 "nbformat": 4,
 "nbformat_minor": 2
}
