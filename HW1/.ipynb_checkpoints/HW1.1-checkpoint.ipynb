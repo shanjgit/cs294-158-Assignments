{
 "cells": [
  {
   "cell_type": "markdown",
   "metadata": {},
   "source": [
    "## TensorFlow 1.x implementation for PSet 1.1"
   ]
  },
  {
   "cell_type": "code",
   "execution_count": 38,
   "metadata": {},
   "outputs": [],
   "source": [
    "from collections import Counter\n",
    "from operator import itemgetter\n",
    "\n",
    "import numpy as np\n",
    "import tensorflow as tf\n",
    "import matplotlib.pyplot as plt\n",
    "\n",
    "%matplotlib inline\n",
    "np.random.seed(0)\n",
    "tf.random.set_random_seed(0)\n",
    "\n",
    "def sample_data():\n",
    "    count = 10000\n",
    "    rand = np.random.RandomState(0)\n",
    "    a = 0.3 + 0.1 * rand.randn(count)\n",
    "    b = 0.8 + 0.05 * rand.randn(count)\n",
    "    mask = rand.rand(count) < 0.5\n",
    "    samples = np.clip(a * mask + b * (1 - mask), 0.0, 1.0)\n",
    "    return np.digitize(samples, np.linspace(0.0, 1.0, 100))"
   ]
  },
  {
   "cell_type": "code",
   "execution_count": 31,
   "metadata": {},
   "outputs": [
    {
     "name": "stdout",
     "output_type": "stream",
     "text": [
      "tf.__version__:  1.13.1\n"
     ]
    }
   ],
   "source": [
    "print(\"tf.__version__: \", tf.__version__)"
   ]
  },
  {
   "cell_type": "code",
   "execution_count": 2,
   "metadata": {},
   "outputs": [],
   "source": [
    "data = sample_data()"
   ]
  },
  {
   "cell_type": "code",
   "execution_count": 46,
   "metadata": {},
   "outputs": [
    {
     "data": {
      "text/plain": [
       "[(62, 1),\n",
       " (61, 1),\n",
       " (97, 2),\n",
       " (58, 2),\n",
       " (63, 2),\n",
       " (60, 2),\n",
       " (64, 3),\n",
       " (94, 4),\n",
       " (57, 4),\n",
       " (65, 4),\n",
       " (59, 4),\n",
       " (3, 5),\n",
       " (95, 5),\n",
       " (4, 5),\n",
       " (96, 6),\n",
       " (2, 7),\n",
       " (56, 7),\n",
       " (1, 8),\n",
       " (54, 8),\n",
       " (6, 8),\n",
       " (55, 9),\n",
       " (5, 10),\n",
       " (7, 10),\n",
       " (66, 10),\n",
       " (93, 11),\n",
       " (8, 13),\n",
       " (92, 14),\n",
       " (53, 15),\n",
       " (52, 18),\n",
       " (67, 19),\n",
       " (51, 21),\n",
       " (9, 23),\n",
       " (10, 25),\n",
       " (11, 25),\n",
       " (50, 26),\n",
       " (49, 27),\n",
       " (91, 27),\n",
       " (48, 34),\n",
       " (90, 34),\n",
       " (68, 34),\n",
       " (12, 35),\n",
       " (13, 39),\n",
       " (69, 40),\n",
       " (46, 47),\n",
       " (89, 54),\n",
       " (70, 56),\n",
       " (47, 56),\n",
       " (45, 57),\n",
       " (14, 61),\n",
       " (15, 71),\n",
       " (71, 76),\n",
       " (42, 79),\n",
       " (44, 79),\n",
       " (16, 80),\n",
       " (18, 87),\n",
       " (17, 88),\n",
       " (43, 89),\n",
       " (88, 95),\n",
       " (41, 98),\n",
       " (19, 100),\n",
       " (20, 122),\n",
       " (40, 124),\n",
       " (72, 127),\n",
       " (87, 134),\n",
       " (39, 134),\n",
       " (24, 141),\n",
       " (22, 142),\n",
       " (38, 144),\n",
       " (23, 148),\n",
       " (21, 151),\n",
       " (73, 152),\n",
       " (86, 152),\n",
       " (37, 153),\n",
       " (35, 170),\n",
       " (36, 171),\n",
       " (26, 173),\n",
       " (34, 176),\n",
       " (33, 186),\n",
       " (31, 193),\n",
       " (25, 193),\n",
       " (27, 199),\n",
       " (29, 203),\n",
       " (74, 210),\n",
       " (85, 213),\n",
       " (28, 217),\n",
       " (32, 223),\n",
       " (75, 251),\n",
       " (30, 252),\n",
       " (76, 277),\n",
       " (84, 301),\n",
       " (83, 329),\n",
       " (82, 368),\n",
       " (77, 379),\n",
       " (80, 384),\n",
       " (78, 386),\n",
       " (79, 414),\n",
       " (81, 428)]"
      ]
     },
     "execution_count": 46,
     "metadata": {},
     "output_type": "execute_result"
    }
   ],
   "source": [
    "count = Counter(data)\n",
    "sorted(count.items(), key=lambda pair:pair[1])"
   ]
  },
  {
   "cell_type": "code",
   "execution_count": 33,
   "metadata": {},
   "outputs": [
    {
     "data": {
      "text/plain": [
       "(array([  8.,   7.,   5.,   5.,  10.,   8.,  10.,  13.,  23.,  25.,  25.,\n",
       "         35.,  39.,  61.,  71.,  80.,  88.,  87., 100., 122., 151., 142.,\n",
       "        148., 141.,   0., 193., 173., 199., 217., 203., 252., 193., 223.,\n",
       "        186., 176., 170., 171., 153., 144., 134., 124.,  98.,  79.,  89.,\n",
       "         79.,  57.,  47.,  56.,  34.,   0.,  27.,  26.,  21.,  18.,  15.,\n",
       "          8.,   9.,   7.,   4.,   2.,   4.,   2.,   1.,   1.,   2.,   3.,\n",
       "          4.,  10.,  19.,  34.,  40.,  56.,  76., 127.,   0., 152., 210.,\n",
       "        251., 277., 379., 386., 414., 384., 428., 368., 329., 301., 213.,\n",
       "        152., 134.,  95.,  54.,  34.,  27.,  14.,  11.,   4.,   5.,   6.,\n",
       "          2.]),\n",
       " array([ 1.  ,  1.96,  2.92,  3.88,  4.84,  5.8 ,  6.76,  7.72,  8.68,\n",
       "         9.64, 10.6 , 11.56, 12.52, 13.48, 14.44, 15.4 , 16.36, 17.32,\n",
       "        18.28, 19.24, 20.2 , 21.16, 22.12, 23.08, 24.04, 25.  , 25.96,\n",
       "        26.92, 27.88, 28.84, 29.8 , 30.76, 31.72, 32.68, 33.64, 34.6 ,\n",
       "        35.56, 36.52, 37.48, 38.44, 39.4 , 40.36, 41.32, 42.28, 43.24,\n",
       "        44.2 , 45.16, 46.12, 47.08, 48.04, 49.  , 49.96, 50.92, 51.88,\n",
       "        52.84, 53.8 , 54.76, 55.72, 56.68, 57.64, 58.6 , 59.56, 60.52,\n",
       "        61.48, 62.44, 63.4 , 64.36, 65.32, 66.28, 67.24, 68.2 , 69.16,\n",
       "        70.12, 71.08, 72.04, 73.  , 73.96, 74.92, 75.88, 76.84, 77.8 ,\n",
       "        78.76, 79.72, 80.68, 81.64, 82.6 , 83.56, 84.52, 85.48, 86.44,\n",
       "        87.4 , 88.36, 89.32, 90.28, 91.24, 92.2 , 93.16, 94.12, 95.08,\n",
       "        96.04, 97.  ]),\n",
       " <a list of 100 Patch objects>)"
      ]
     },
     "execution_count": 33,
     "metadata": {},
     "output_type": "execute_result"
    },
    {
     "data": {
      "image/png": "[encoded data removed]",
      "text/plain": [
       "<Figure size 432x288 with 1 Axes>"
      ]
     },
     "metadata": {
      "needs_background": "light"
     },
     "output_type": "display_data"
    }
   ],
   "source": [
    "plt.hist(data, bins = 100)"
   ]
  },
  {
   "cell_type": "code",
   "execution_count": 4,
   "metadata": {},
   "outputs": [],
   "source": [
    "NUM_EPOCHS = 20\n",
    "BATCH_SIZE = 4"
   ]
  },
  {
   "cell_type": "code",
   "execution_count": 5,
   "metadata": {},
   "outputs": [],
   "source": [
    " # Subsample the data\n",
    "mask = range(int(data.shape[0]*0.8), data.shape[0])\n",
    "data_val = data[mask]\n",
    "mask = range(int(data.shape[0]*0.8))\n",
    "data_train = data[mask]"
   ]
  },
  {
   "cell_type": "code",
   "execution_count": 6,
   "metadata": {},
   "outputs": [],
   "source": [
    "class Dataset(object):\n",
    "    def __init__(self, X, batch_size, shuffle=False):\n",
    "        \"\"\"\n",
    "        Construct a Dataset object to iterate over data X and labels y\n",
    "        \n",
    "        Inputs:\n",
    "        - X: Numpy array of data, of any shape\n",
    "        - y: Numpy array of labels, of any shape but with y.shape[0] == X.shape[0]\n",
    "        - batch_size: Integer giving number of elements per minibatch\n",
    "        - shuffle: (optional) Boolean, whether to shuffle the data on each epoch\n",
    "        \"\"\"\n",
    "        self.X  = X\n",
    "        self.batch_size, self.shuffle = batch_size, shuffle\n",
    "\n",
    "    def __iter__(self):\n",
    "        N, B = self.X.shape[0], self.batch_size\n",
    "        idxs = np.arange(N)\n",
    "        if self.shuffle:\n",
    "            np.random.shuffle(idxs)\n",
    "        return iter((self.X[idxs][i:i+B]) for i in range(0, N, B))\n",
    "\n",
    "\n",
    "train_dset = Dataset(data_train, batch_size=BATCH_SIZE, shuffle=True)\n",
    "val_dset = Dataset(data_val, batch_size=BATCH_SIZE, shuffle=False)"
   ]
  },
  {
   "cell_type": "code",
   "execution_count": 7,
   "metadata": {},
   "outputs": [
    {
     "name": "stdout",
     "output_type": "stream",
     "text": [
      "WARNING:tensorflow:From /Users/shanwu/anaconda3/envs/nlp/lib/python3.6/site-packages/tensorflow/python/framework/op_def_library.py:263: colocate_with (from tensorflow.python.framework.ops) is deprecated and will be removed in a future version.\n",
      "Instructions for updating:\n",
      "Colocations handled automatically by placer.\n"
     ]
    }
   ],
   "source": [
    "tf.reset_default_graph()\n",
    "with tf.variable_scope('param'):\n",
    "    theta = tf.Variable(tf.zeros(100), dtype=tf.float32, name='theta')"
   ]
  },
  {
   "cell_type": "code",
   "execution_count": 8,
   "metadata": {},
   "outputs": [],
   "source": [
    "def p(x):\n",
    "    softmax = tf.ones([tf.shape(x)[0], 1]) * tf.math.softmax(theta)\n",
    "    idx_x = tf.stack([tf.range(tf.shape(x)[0], dtype=tf.int32), x-1], axis=1)\n",
    "    # idx_x = tf.stack([tf.range(x.get_shape().as_list()[0], dtype=tf.int64), x-1], axis=1)\n",
    "    return tf.gather_nd(softmax, idx_x)\n",
    "\n",
    "def softmaxLoss(x):\n",
    "    return tf.reduce_mean(-tf.math.log(p(x)))"
   ]
  },
  {
   "cell_type": "code",
   "execution_count": 9,
   "metadata": {},
   "outputs": [],
   "source": [
    "# TODO: create an AdamOptimizer for the optimization process\n",
    "def get_solvers(learning_rate=1e-3, beta1=0.5):\n",
    "    \"\"\"Create solvers for training work.\n",
    "    \n",
    "    Inputs:\n",
    "    - learning_rate: learning rate to use for both solvers\n",
    "    - beta1: beta1 parameter for both solvers (first moment decay)\n",
    "    \n",
    "    Returns:\n",
    "    - solver: instance of tf.train.AdamOptimizer with correct learning_rate and beta1\n",
    "    \"\"\"\n",
    "    solver = tf.train.AdamOptimizer(learning_rate, beta1, name=\"solver\")\n",
    "    return solver"
   ]
  },
  {
   "cell_type": "code",
   "execution_count": 10,
   "metadata": {},
   "outputs": [],
   "source": [
    "def check_val_loss(sess, dset, loss):\n",
    "    \"\"\"\n",
    "    Check accuracy on a classification model.\n",
    "    \n",
    "    Inputs:\n",
    "    - sess: A TensorFlow Session that will be used to run the graph\n",
    "    - dset: A Dataset object on which to check accuracy\n",
    "    - x: A TensorFlow placeholder Tensor where input images should be fed\n",
    "      \n",
    "    Returns: averge loss, meanwhile prints such a loss of the model\n",
    "    \"\"\"\n",
    "    batch_loss = []\n",
    "    for x_batch in dset:\n",
    "        feed_dict = {x: x_batch}\n",
    "        loss_np = sess.run(loss, feed_dict=feed_dict)\n",
    "        batch_loss.append(loss_np)\n",
    "    avg = np.mean(batch_loss)\n",
    "    print('val loss (%.4f)' % (avg))\n",
    "    return avg"
   ]
  },
  {
   "cell_type": "code",
   "execution_count": 11,
   "metadata": {},
   "outputs": [],
   "source": [
    "with tf.name_scope(\"max_likelihood\"):\n",
    "    x = tf.placeholder(tf.int32, [None], name='input')\n",
    "\n",
    "    prob_op = p(x)\n",
    "    log_loss = softmaxLoss(x)\n",
    "    \n",
    "    optimizer = get_solvers()\n",
    "    var_list = tf.get_collection(tf.GraphKeys.TRAINABLE_VARIABLES, 'param')\n",
    "    update_ops = tf.get_collection(tf.GraphKeys.UPDATE_OPS)\n",
    "    \n",
    "    with tf.control_dependencies(update_ops):\n",
    "        train_op = optimizer.minimize(log_loss, var_list=var_list)\n"
   ]
  },
  {
   "cell_type": "code",
   "execution_count": 12,
   "metadata": {},
   "outputs": [
    {
     "name": "stdout",
     "output_type": "stream",
     "text": [
      "Starting epoch 0\n",
      "Iteration 0, loss = 4.6052\n",
      "val loss (4.6051)\n",
      "\n",
      "Iteration 1000, loss = 4.5102\n",
      "val loss (4.3583)\n",
      "\n",
      "Starting epoch 1\n",
      "Iteration 2000, loss = 4.4338\n",
      "val loss (4.2293)\n",
      "\n",
      "Iteration 3000, loss = 4.1728\n",
      "val loss (4.1556)\n",
      "\n",
      "Starting epoch 2\n",
      "Iteration 4000, loss = 4.1908\n",
      "val loss (4.1126)\n",
      "\n",
      "Iteration 5000, loss = 4.0420\n",
      "val loss (4.0860)\n",
      "\n",
      "Starting epoch 3\n",
      "Iteration 6000, loss = 4.7251\n",
      "val loss (4.0694)\n",
      "\n",
      "Iteration 7000, loss = 3.8752\n",
      "val loss (4.0591)\n",
      "\n",
      "Starting epoch 4\n",
      "Iteration 8000, loss = 3.9085\n",
      "val loss (4.0511)\n",
      "\n",
      "Iteration 9000, loss = 3.8270\n",
      "val loss (4.0466)\n",
      "\n",
      "Starting epoch 5\n",
      "Iteration 10000, loss = 3.6603\n",
      "val loss (4.0428)\n",
      "\n",
      "Iteration 11000, loss = 4.0595\n",
      "val loss (4.0398)\n",
      "\n",
      "Starting epoch 6\n",
      "Iteration 12000, loss = 3.6662\n",
      "val loss (4.0385)\n",
      "\n",
      "Iteration 13000, loss = 4.2864\n",
      "val loss (4.0375)\n",
      "\n",
      "Starting epoch 7\n",
      "Iteration 14000, loss = 3.5187\n",
      "val loss (4.0362)\n",
      "\n",
      "Iteration 15000, loss = 5.1831\n",
      "val loss (4.0361)\n",
      "\n",
      "Starting epoch 8\n",
      "Iteration 16000, loss = 3.9786\n",
      "val loss (4.0346)\n",
      "\n",
      "Iteration 17000, loss = 3.7902\n",
      "val loss (4.0339)\n",
      "\n",
      "Starting epoch 9\n",
      "Iteration 18000, loss = 3.7779\n",
      "val loss (4.0339)\n",
      "\n",
      "Iteration 19000, loss = 3.9179\n",
      "val loss (4.0340)\n",
      "\n",
      "Starting epoch 10\n",
      "Iteration 20000, loss = 3.7146\n",
      "val loss (4.0333)\n",
      "\n",
      "Iteration 21000, loss = 4.1431\n",
      "val loss (4.0339)\n",
      "\n",
      "Starting epoch 11\n",
      "Iteration 22000, loss = 4.2793\n",
      "val loss (4.0327)\n",
      "\n",
      "Iteration 23000, loss = 3.6998\n",
      "val loss (4.0331)\n",
      "\n",
      "Starting epoch 12\n",
      "Iteration 24000, loss = 4.4859\n",
      "val loss (4.0325)\n",
      "\n",
      "Iteration 25000, loss = 4.1342\n",
      "val loss (4.0326)\n",
      "\n",
      "Starting epoch 13\n",
      "Iteration 26000, loss = 3.9608\n",
      "val loss (4.0323)\n",
      "\n",
      "Iteration 27000, loss = 3.6887\n",
      "val loss (4.0328)\n",
      "\n",
      "Starting epoch 14\n",
      "Iteration 28000, loss = 4.5462\n",
      "val loss (4.0320)\n",
      "\n",
      "Iteration 29000, loss = 4.3286\n",
      "val loss (4.0318)\n",
      "\n",
      "Starting epoch 15\n",
      "Iteration 30000, loss = 3.5510\n",
      "val loss (4.0323)\n",
      "\n",
      "Iteration 31000, loss = 4.0324\n",
      "val loss (4.0322)\n",
      "\n",
      "Starting epoch 16\n",
      "Iteration 32000, loss = 3.7674\n",
      "val loss (4.0321)\n",
      "\n",
      "Iteration 33000, loss = 4.0924\n",
      "val loss (4.0325)\n",
      "\n",
      "Starting epoch 17\n",
      "Iteration 34000, loss = 3.8467\n",
      "val loss (4.0321)\n",
      "\n",
      "Iteration 35000, loss = 3.9288\n",
      "val loss (4.0320)\n",
      "\n",
      "Starting epoch 18\n",
      "Iteration 36000, loss = 3.6719\n",
      "val loss (4.0322)\n",
      "\n",
      "Iteration 37000, loss = 3.8362\n",
      "val loss (4.0322)\n",
      "\n",
      "Starting epoch 19\n",
      "Iteration 38000, loss = 3.7349\n",
      "val loss (4.0321)\n",
      "\n",
      "Iteration 39000, loss = 4.2770\n",
      "val loss (4.0326)\n",
      "\n",
      "Model saved in path: ./model.ckpt\n"
     ]
    }
   ],
   "source": [
    "print_every = 1000\n",
    "ans = []\n",
    "val_loss = []\n",
    "train_loss = []\n",
    "saver = tf.train.Saver()\n",
    "\n",
    "with tf.Session() as sess:\n",
    "    sess.run(tf.global_variables_initializer())\n",
    "    t = 0\n",
    "    for epoch in range(NUM_EPOCHS):\n",
    "        print('Starting epoch %d' % epoch)\n",
    "        for x_np in train_dset:\n",
    "            feed_dict = {x: x_np}\n",
    "            loss_np, _ = sess.run([log_loss, train_op], feed_dict=feed_dict)\n",
    "            if t % print_every == 0:\n",
    "                train_loss.append(loss_np)\n",
    "                print('Iteration %d, loss = %.4f' % (t, loss_np))\n",
    "                val_loss_np = check_val_loss(sess, val_dset, log_loss)\n",
    "                val_loss.append(val_loss_np)\n",
    "                print()\n",
    "            t += 1\n",
    "     \n",
    "    # Save the variables to disk.\n",
    "    save_path = saver.save(sess, \"./model.ckpt\")\n",
    "    print(\"Model saved in path: %s\" % save_path)\n",
    "    \n",
    "    # Save the predicted prob to list.\n",
    "    for i in range(1,101):\n",
    "        a = sess.run([prob_op],{x:[i]})\n",
    "        ans.append(np.squeeze(a))"
   ]
  },
  {
   "cell_type": "code",
   "execution_count": 13,
   "metadata": {},
   "outputs": [
    {
     "data": {
      "text/plain": [
       "[<matplotlib.lines.Line2D at 0x133df17f0>]"
      ]
     },
     "execution_count": 13,
     "metadata": {},
     "output_type": "execute_result"
    },
    {
     "data": {
      "image/png": "[encoded data removed]",
      "text/plain": [
       "<Figure size 432x288 with 1 Axes>"
      ]
     },
     "metadata": {
      "needs_background": "light"
     },
     "output_type": "display_data"
    }
   ],
   "source": [
    "plt.plot(np.arange(1,101),ans)"
   ]
  },
  {
   "cell_type": "code",
   "execution_count": 14,
   "metadata": {},
   "outputs": [
    {
     "data": {
      "text/plain": [
       "(array([ 1.,  1.,  0.,  0.,  1.,  0.,  2.,  0.,  2.,  3.,  5.,  3.,  2.,\n",
       "         7.,  8.,  7., 12.,  7.,  5.,  0.,  5., 15.,  8., 18., 12., 18.,\n",
       "        18., 20., 20., 20., 36., 18., 16., 21., 13., 23., 26., 19., 12.,\n",
       "         0., 15.,  6., 14.,  9.,  7.,  7.,  7., 10.,  4.,  5.,  4.,  3.,\n",
       "         2.,  1.,  2.,  0.,  0.,  0.,  1.,  0.,  0.,  0.,  0.,  0.,  0.,\n",
       "         0.,  0.,  0.,  1.,  7.,  4.,  1.,  4.,  6.,  8.,  9., 22., 23.,\n",
       "        31.,  0., 44., 36., 53., 39., 35., 35., 36., 38., 20., 17., 15.,\n",
       "         2.,  7.,  4.,  0.,  1.,  0.,  0.,  0.,  1.]),\n",
       " array([ 1.  ,  1.95,  2.9 ,  3.85,  4.8 ,  5.75,  6.7 ,  7.65,  8.6 ,\n",
       "         9.55, 10.5 , 11.45, 12.4 , 13.35, 14.3 , 15.25, 16.2 , 17.15,\n",
       "        18.1 , 19.05, 20.  , 20.95, 21.9 , 22.85, 23.8 , 24.75, 25.7 ,\n",
       "        26.65, 27.6 , 28.55, 29.5 , 30.45, 31.4 , 32.35, 33.3 , 34.25,\n",
       "        35.2 , 36.15, 37.1 , 38.05, 39.  , 39.95, 40.9 , 41.85, 42.8 ,\n",
       "        43.75, 44.7 , 45.65, 46.6 , 47.55, 48.5 , 49.45, 50.4 , 51.35,\n",
       "        52.3 , 53.25, 54.2 , 55.15, 56.1 , 57.05, 58.  , 58.95, 59.9 ,\n",
       "        60.85, 61.8 , 62.75, 63.7 , 64.65, 65.6 , 66.55, 67.5 , 68.45,\n",
       "        69.4 , 70.35, 71.3 , 72.25, 73.2 , 74.15, 75.1 , 76.05, 77.  ,\n",
       "        77.95, 78.9 , 79.85, 80.8 , 81.75, 82.7 , 83.65, 84.6 , 85.55,\n",
       "        86.5 , 87.45, 88.4 , 89.35, 90.3 , 91.25, 92.2 , 93.15, 94.1 ,\n",
       "        95.05, 96.  ]),\n",
       " <a list of 100 Patch objects>)"
      ]
     },
     "execution_count": 14,
     "metadata": {},
     "output_type": "execute_result"
    },
    {
     "data": {
      "image/png": "[encoded data removed]",
      "text/plain": [
       "<Figure size 432x288 with 1 Axes>"
      ]
     },
     "metadata": {
      "needs_background": "light"
     },
     "output_type": "display_data"
    }
   ],
   "source": [
    "sample = np.random.choice(data,1000)\n",
    "plt.hist(sample, bins=100, )"
   ]
  },
  {
   "cell_type": "code",
   "execution_count": 15,
   "metadata": {},
   "outputs": [
    {
     "name": "stdout",
     "output_type": "stream",
     "text": [
      "WARNING:tensorflow:From /Users/shanwu/anaconda3/envs/nlp/lib/python3.6/site-packages/tensorflow/python/training/saver.py:1266: checkpoint_exists (from tensorflow.python.training.checkpoint_management) is deprecated and will be removed in a future version.\n",
      "Instructions for updating:\n",
      "Use standard file APIs to check for files with this prefix.\n",
      "INFO:tensorflow:Restoring parameters from ./model.ckpt\n",
      "Model restored.\n",
      "Trained parameters: [-2.6135988e+00 -2.9055605e+00 -3.1258278e+00 -2.9149642e+00\n",
      " -2.7614253e+00 -2.6064532e+00 -2.3819122e+00 -2.1801159e+00\n",
      " -1.7423937e+00 -1.6451762e+00 -1.6906770e+00 -1.2177695e+00\n",
      " -1.1158085e+00 -6.2440830e-01 -5.6847632e-01 -4.2887193e-01\n",
      " -3.2047716e-01 -4.1582516e-01 -1.2876010e-01 -1.2604407e-02\n",
      "  1.8980397e-01  1.4259395e-01  1.9735578e-01  9.7259969e-02\n",
      "  4.5436817e-01  3.7030455e-01  5.1712096e-01  5.6839854e-01\n",
      "  5.5965132e-01  7.4381423e-01  4.5678157e-01  6.3681597e-01\n",
      "  4.2858523e-01  3.5404202e-01  3.4912881e-01  3.5435051e-01\n",
      "  2.0590709e-01  1.9762319e-01  9.0360150e-02  8.9797854e-02\n",
      " -2.6650363e-01 -5.1820743e-01 -2.8493443e-01 -4.5141330e-01\n",
      " -6.6008461e-01 -9.9763018e-01 -8.1942326e-01 -1.2586089e+00\n",
      " -1.4536856e+00 -1.4051727e+00 -1.8127124e+00 -2.0145426e+00\n",
      " -2.0174696e+00 -2.9121892e+00 -2.6135702e+00 -2.7555761e+00\n",
      " -3.1323514e+00 -3.7643418e+00 -3.1287873e+00 -4.3756161e+00\n",
      " -4.3949804e+00 -4.3564143e+00 -4.3463764e+00 -3.4017317e+00\n",
      " -3.1258402e+00 -2.3659196e+00 -1.9365503e+00 -1.1892725e+00\n",
      " -1.0770705e+00 -7.8376293e-01 -4.3441531e-01  8.5919820e-02\n",
      "  2.3875591e-01  5.1291031e-01  7.0135266e-01  8.7752336e-01\n",
      "  1.1383420e+00  1.1253455e+00  1.2224841e+00  1.1865405e+00\n",
      "  1.2261708e+00  1.1124504e+00  1.0037335e+00  9.2583060e-01\n",
      "  5.9028929e-01  2.2076388e-01 -1.3481264e-02 -1.6784929e-01\n",
      " -7.1429926e-01 -1.3980148e+00 -1.4109350e+00 -2.1770978e+00\n",
      " -2.2829368e+00 -3.3988223e+00 -3.4017437e+00 -3.3779619e+00\n",
      " -3.8015087e+00 -1.5772753e+01 -1.5772753e+01 -1.5772753e+01]\n"
     ]
    }
   ],
   "source": [
    "with tf.Session() as sess:\n",
    "    saver.restore(sess, \"./model.ckpt\")\n",
    "    print(\"Model restored.\")\n",
    "    param = sess.run(theta)\n",
    "    print(f'Trained parameters: {param}')"
   ]
  },
  {
   "cell_type": "markdown",
   "metadata": {},
   "source": [
    "## Plot train/val loss "
   ]
  },
  {
   "cell_type": "code",
   "execution_count": 24,
   "metadata": {},
   "outputs": [],
   "source": [
    "def plot_training_history(title, label, val_history, train_history, train_marker='.', val_marker='.', labels=None):\n",
    "    \"\"\"utility function for plotting training history\"\"\"\n",
    "    plt.title(title)\n",
    "    plt.xlabel(label)\n",
    "    train_plots = train_history\n",
    "    val_plots = val_history\n",
    "    num_train = len(train_plots)\n",
    "    for i in range(num_train):\n",
    "        label='train_loss'\n",
    "        if labels is not None:\n",
    "            label += str(labels[i])\n",
    "        plt.plot(train_plots[i], train_marker, label=label)\n",
    "    label='val_loss'\n",
    "    if labels is not None:\n",
    "        label += str(labels[0])\n",
    "    plt.plot(val_plots, val_marker, label=label)\n",
    "    plt.legend(loc='lower center', ncol=num_train+1) "
   ]
  },
  {
   "cell_type": "code",
   "execution_count": 29,
   "metadata": {},
   "outputs": [
    {
     "data": {
      "image/png": "[encoded data removed]",
      "text/plain": [
       "<Figure size 1080x720 with 1 Axes>"
      ]
     },
     "metadata": {
      "needs_background": "light"
     },
     "output_type": "display_data"
    }
   ],
   "source": [
    "plot_training_history('Training loss','Step/1000', val_loss, [train_loss], \n",
    "                     train_marker='-o', val_marker='-o')\n",
    "plt.gcf().set_size_inches(15, 10)\n",
    "plt.show()"
   ]
  },
  {
   "cell_type": "code",
   "execution_count": null,
   "metadata": {},
   "outputs": [],
   "source": []
  }
 ],
 "metadata": {
  "kernelspec": {
   "display_name": "Python 3",
   "language": "python",
   "name": "python3"
  },
  "language_info": {
   "codemirror_mode": {
    "name": "ipython",
    "version": 3
   },
   "file_extension": ".py",
   "mimetype": "text/x-python",
   "name": "python",
   "nbconvert_exporter": "python",
   "pygments_lexer": "ipython3",
   "version": "3.6.0"
  }
 },
 "nbformat": 4,
 "nbformat_minor": 2
}
