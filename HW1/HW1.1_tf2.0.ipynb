{
 "cells": [
  {
   "cell_type": "code",
   "execution_count": 13,
   "metadata": {},
   "outputs": [],
   "source": [
    "from collections import Counter\n",
    "from operator import itemgetter\n",
    "\n",
    "import numpy as np\n",
    "import tensorflow as tf\n",
    "\n",
    "np.random.seed(0)\n",
    "\n",
    "def sample_data():\n",
    "    count = 10000\n",
    "    rand = np.random.RandomState(0)\n",
    "    a = 0.3 + 0.1 * rand.randn(count)\n",
    "    b = 0.8 + 0.05 * rand.randn(count)\n",
    "    mask = rand.rand(count) < 0.5\n",
    "    samples = np.clip(a * mask + b * (1 - mask), 0.0, 1.0)\n",
    "    return np.digitize(samples, np.linspace(0.0, 1.0, 100))"
   ]
  },
  {
   "cell_type": "code",
   "execution_count": 14,
   "metadata": {},
   "outputs": [],
   "source": [
    "NUM_EPOCHS = 20\n",
    "BATCH_SIZE = 2"
   ]
  },
  {
   "cell_type": "code",
   "execution_count": 15,
   "metadata": {},
   "outputs": [],
   "source": [
    "# Subsample the data\n",
    "data = sample_data()\n",
    "mask = range(int(data.shape[0]*0.8), data.shape[0])\n",
    "data_val = data[mask]\n",
    "mask = range(int(data.shape[0]*0.8))\n",
    "data_train = data[mask]"
   ]
  },
  {
   "cell_type": "code",
   "execution_count": 16,
   "metadata": {},
   "outputs": [],
   "source": [
    "theta = tf.Variable(tf.zeros(100), dtype=tf.float32, name='theta')\n",
    "\n",
    "@tf.function\n",
    "def p(x):\n",
    "    N = tf.cast(tf.shape(x)[0], tf.int64)\n",
    "    softmax = tf.ones([N, 1]) * tf.math.softmax(theta)\n",
    "    idx_x = tf.stack([tf.range(N, dtype=tf.int64), x-1], axis=1)\n",
    "    return tf.gather_nd(softmax, idx_x)\n",
    "\n",
    "@tf.function\n",
    "def softmaxLoss(x):\n",
    "    return tf.reduce_mean(-tf.math.log(p(x)))"
   ]
  },
  {
   "cell_type": "code",
   "execution_count": 17,
   "metadata": {},
   "outputs": [],
   "source": [
    "train_dset = tf.data.Dataset.from_tensor_slices(data_train).\\\n",
    "                                repeat(1).batch(BATCH_SIZE)\n",
    "val_dset = tf.data.Dataset.from_tensor_slices(data_val).\\\n",
    "                                    batch(BATCH_SIZE)"
   ]
  },
  {
   "cell_type": "code",
   "execution_count": 18,
   "metadata": {},
   "outputs": [
    {
     "name": "stdout",
     "output_type": "stream",
     "text": [
      "Epoch:  0\n",
      "  train loss:     4.306\n",
      "  val loss: 4.148\n",
      "Epoch:  1\n",
      "  train loss:     4.104\n",
      "  val loss: 4.067\n",
      "Epoch:  2\n",
      "  train loss:     4.061\n",
      "  val loss: 4.045\n",
      "Epoch:  3\n",
      "  train loss:     4.049\n",
      "  val loss: 4.038\n",
      "Epoch:  4\n",
      "  train loss:     4.044\n",
      "  val loss: 4.035\n",
      "Epoch:  5\n",
      "  train loss:     4.042\n",
      "  val loss: 4.034\n",
      "Epoch:  6\n",
      "  train loss:     4.041\n",
      "  val loss: 4.033\n",
      "Epoch:  7\n",
      "  train loss:     4.041\n",
      "  val loss: 4.032\n",
      "Epoch:  8\n",
      "  train loss:     4.041\n",
      "  val loss: 4.032\n",
      "Epoch:  9\n",
      "  train loss:     4.040\n",
      "  val loss: 4.032\n",
      "Epoch:  10\n",
      "  train loss:     4.040\n",
      "  val loss: 4.032\n",
      "Epoch:  11\n",
      "  train loss:     4.040\n",
      "  val loss: 4.032\n",
      "Epoch:  12\n",
      "  train loss:     4.040\n",
      "  val loss: 4.033\n",
      "Epoch:  13\n",
      "  train loss:     4.041\n",
      "  val loss: 4.033\n",
      "Epoch:  14\n",
      "  train loss:     4.040\n",
      "  val loss: 4.033\n",
      "Epoch:  15\n",
      "  train loss:     4.040\n",
      "  val loss: 4.033\n",
      "Epoch:  16\n",
      "  train loss:     4.041\n",
      "  val loss: 4.033\n",
      "Epoch:  17\n",
      "  train loss:     4.041\n",
      "  val loss: 4.033\n",
      "Epoch:  18\n",
      "  train loss:     4.041\n",
      "  val loss: 4.033\n",
      "Epoch:  19\n",
      "  train loss:     4.041\n",
      "  val loss: 4.033\n"
     ]
    }
   ],
   "source": [
    "# Create the metrics\n",
    "loss_metric = tf.keras.metrics.Mean(name='train_loss')\n",
    "val_loss_metric = tf.keras.metrics.Mean(name='val_loss')\n",
    "optimizer = tf.keras.optimizers.Adam(0.001, beta_1=0.5)\n",
    "train_loss_history = []\n",
    "val_loss_history = []\n",
    "@tf.function\n",
    "def train_step(inputs):\n",
    "    with tf.GradientTape() as tape:\n",
    "        log_loss = softmaxLoss(inputs)\n",
    "    gradients = tape.gradient(log_loss,[theta])\n",
    "    optimizer.apply_gradients(zip(gradients, [theta]))\n",
    "    # Update the metrics\n",
    "    loss_metric.update_state(log_loss)\n",
    " \n",
    "\n",
    "@tf.function\n",
    "def val_step(inputs):\n",
    "    log_loss = softmaxLoss(inputs)\n",
    "    \n",
    "    # Update the metrics\n",
    "    val_loss_metric.update_state(log_loss)\n",
    "\n",
    "\n",
    "for epoch in range(NUM_EPOCHS):\n",
    "    # Reset the metrics\n",
    "    loss_metric.reset_states()\n",
    "    train_dset = train_dset.shuffle(buffer_size=10000)\n",
    "    for inputs in train_dset:\n",
    "        train_step(inputs)\n",
    "        \n",
    "    # Repeat the same process for val set\n",
    "    val_loss_metric.reset_states()\n",
    "    for inputs in val_dset:\n",
    "        val_step(inputs)\n",
    "    # Get the metric results\n",
    "    mean_loss = loss_metric.result()\n",
    "    mean_val_loss = val_loss_metric.result()\n",
    "    train_loss_history.append(mean_loss)\n",
    "    val_loss_history.append(mean_val_loss)\n",
    "\n",
    "    print('Epoch: ', epoch)\n",
    "    print('  train loss:     {:.3f}'.format(mean_loss))\n",
    "    print('  val loss: {:.3f}'.format(mean_val_loss))"
   ]
  },
  {
   "cell_type": "code",
   "execution_count": 19,
   "metadata": {},
   "outputs": [],
   "source": [
    "prob = []\n",
    "for i in range(1,101):\n",
    "    prob.append(p(np.array([i])).numpy()[0])"
   ]
  },
  {
   "cell_type": "code",
   "execution_count": 20,
   "metadata": {},
   "outputs": [
    {
     "data": {
      "text/plain": [
       "[<matplotlib.lines.Line2D at 0x108e7deb8>]"
      ]
     },
     "execution_count": 20,
     "metadata": {},
     "output_type": "execute_result"
    },
    {
     "data": {
      "image/png": "[encoded data removed]",
      "text/plain": [
       "<Figure size 432x288 with 1 Axes>"
      ]
     },
     "metadata": {
      "needs_background": "light"
     },
     "output_type": "display_data"
    }
   ],
   "source": [
    "import matplotlib.pyplot as plt\n",
    "%matplotlib inline \n",
    "plt.plot(prob)"
   ]
  },
  {
   "cell_type": "markdown",
   "metadata": {},
   "source": [
    "# Plot train/val loss"
   ]
  },
  {
   "cell_type": "code",
   "execution_count": 21,
   "metadata": {},
   "outputs": [],
   "source": [
    "def plot_training_history(title, label, val_history, train_history, train_marker='.', val_marker='.', labels=None):\n",
    "    \"\"\"utility function for plotting training history\"\"\"\n",
    "    plt.title(title)\n",
    "    plt.xlabel(label)\n",
    "    train_plots = train_history\n",
    "    val_plots = val_history\n",
    "    num_train = len(train_plots)\n",
    "    for i in range(num_train):\n",
    "        label='train_loss'\n",
    "        if labels is not None:\n",
    "            label += str(labels[i])\n",
    "        plt.plot(train_plots[i], train_marker, label=label)\n",
    "    label='val_loss'\n",
    "    if labels is not None:\n",
    "        label += str(labels[0])\n",
    "    plt.plot(val_plots, val_marker, label=label)\n",
    "    plt.legend(loc='lower center', ncol=num_train+1) "
   ]
  },
  {
   "cell_type": "code",
   "execution_count": 22,
   "metadata": {},
   "outputs": [
    {
     "data": {
      "image/png": "[encoded data removed]",
      "text/plain": [
       "<Figure size 1080x720 with 1 Axes>"
      ]
     },
     "metadata": {
      "needs_background": "light"
     },
     "output_type": "display_data"
    }
   ],
   "source": [
    "plot_training_history('Training loss','Step/1000', val_loss_history, [train_loss_history], \n",
    "                     train_marker='-o', val_marker='-o')\n",
    "plt.gcf().set_size_inches(15, 10)\n",
    "plt.show()"
   ]
  },
  {
   "cell_type": "code",
   "execution_count": null,
   "metadata": {},
   "outputs": [],
   "source": []
  }
 ],
 "metadata": {
  "kernelspec": {
   "display_name": "Python 3",
   "language": "python",
   "name": "python3"
  },
  "language_info": {
   "codemirror_mode": {
    "name": "ipython",
    "version": 3
   },
   "file_extension": ".py",
   "mimetype": "text/x-python",
   "name": "python",
   "nbconvert_exporter": "python",
   "pygments_lexer": "ipython3",
   "version": "3.6.0"
  }
 },
 "nbformat": 4,
 "nbformat_minor": 2
}
